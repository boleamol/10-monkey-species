{
  "nbformat": 4,
  "nbformat_minor": 0,
  "metadata": {
    "colab": {
      "name": "10-monkey-species.ipynb",
      "provenance": [],
      "mount_file_id": "1ZOsCTMqhsxbXyfXQpHQ_5cpomuSuNk89",
      "authorship_tag": "ABX9TyNgCfWTPma/HmbJvyP8htaU",
      "include_colab_link": true
    },
    "kernelspec": {
      "name": "python3",
      "display_name": "Python 3"
    },
    "language_info": {
      "name": "python"
    },
    "accelerator": "GPU"
  },
  "cells": [
    {
      "cell_type": "markdown",
      "metadata": {
        "id": "view-in-github",
        "colab_type": "text"
      },
      "source": [
        "<a href=\"https://colab.research.google.com/github/boleamol/10-monkey-species/blob/main/10_monkey_species.ipynb\" target=\"_parent\"><img src=\"https://colab.research.google.com/assets/colab-badge.svg\" alt=\"Open In Colab\"/></a>"
      ]
    },
    {
      "cell_type": "code",
      "metadata": {
        "colab": {
          "base_uri": "https://localhost:8080/"
        },
        "id": "GP7R76Qk_0hM",
        "outputId": "2e50e140-4fe4-4371-d149-16c11d95f209"
      },
      "source": [
        "!pwd"
      ],
      "execution_count": 1,
      "outputs": [
        {
          "output_type": "stream",
          "text": [
            "/content\n"
          ],
          "name": "stdout"
        }
      ]
    },
    {
      "cell_type": "code",
      "metadata": {
        "colab": {
          "base_uri": "https://localhost:8080/"
        },
        "id": "FAh6QRWHACMt",
        "outputId": "c38ceb76-5638-4f9c-cfd3-ece314c512ed"
      },
      "source": [
        "#changing the working directory and entering to dataset directory for my google drive\n",
        "%cd drive/MyDrive/kaggle/image_classification/"
      ],
      "execution_count": 2,
      "outputs": [
        {
          "output_type": "stream",
          "text": [
            "/content/drive/MyDrive/kaggle/image_classification\n"
          ],
          "name": "stdout"
        }
      ]
    },
    {
      "cell_type": "code",
      "metadata": {
        "id": "XpZZJO9tAQI8"
      },
      "source": [
        "!cp ../kaggle.json /root/.kaggle"
      ],
      "execution_count": 5,
      "outputs": []
    },
    {
      "cell_type": "code",
      "metadata": {
        "colab": {
          "base_uri": "https://localhost:8080/"
        },
        "id": "P7CkyWnAAHvH",
        "outputId": "ba443be2-0537-4bdc-aaaa-5284465919be"
      },
      "source": [
        "!kaggle datasets download -d slothkong/10-monkey-species"
      ],
      "execution_count": 6,
      "outputs": [
        {
          "output_type": "stream",
          "text": [
            "Downloading 10-monkey-species.zip to /content/drive/My Drive/kaggle/image_classification\n",
            " 98% 535M/547M [00:21<00:00, 25.4MB/s]\n",
            "100% 547M/547M [00:21<00:00, 26.8MB/s]\n"
          ],
          "name": "stdout"
        }
      ]
    },
    {
      "cell_type": "code",
      "metadata": {
        "id": "XSoGn5kUAMPw"
      },
      "source": [
        "!mkdir 10_monkey_species"
      ],
      "execution_count": 7,
      "outputs": []
    },
    {
      "cell_type": "code",
      "metadata": {
        "colab": {
          "base_uri": "https://localhost:8080/"
        },
        "id": "KP2u0X5BA0dk",
        "outputId": "49dd05ec-cf69-426c-fedd-1875dbaa70bd"
      },
      "source": [
        "%cd 10_monkey_species/"
      ],
      "execution_count": 3,
      "outputs": [
        {
          "output_type": "stream",
          "text": [
            "/content/drive/MyDrive/kaggle/image_classification/10_monkey_species\n"
          ],
          "name": "stdout"
        }
      ]
    },
    {
      "cell_type": "code",
      "metadata": {
        "colab": {
          "base_uri": "https://localhost:8080/"
        },
        "id": "pgjf67RPBMT7",
        "outputId": "db18a9b5-b9d9-40be-a7d6-bd14b336bf99"
      },
      "source": [
        "!ls"
      ],
      "execution_count": 4,
      "outputs": [
        {
          "output_type": "stream",
          "text": [
            "monkey_labels.txt  test  train\n"
          ],
          "name": "stdout"
        }
      ]
    },
    {
      "cell_type": "code",
      "metadata": {
        "id": "vJYnFiLlCHI2"
      },
      "source": [
        "from tensorflow.compat.v1 import ConfigProto\n",
        "from tensorflow.compat.v1 import InteractiveSession\n",
        "\n",
        "config = ConfigProto()\n",
        "config.gpu_options.per_process_gpu_memory_fraction = 0.9\n",
        "config.gpu_options.allow_growth = True\n",
        "session = InteractiveSession(config=config)"
      ],
      "execution_count": 5,
      "outputs": []
    },
    {
      "cell_type": "code",
      "metadata": {
        "id": "DTQx74NuCK1J"
      },
      "source": [
        "# Convolutional Neural Network\n",
        "\n",
        "# Importing the libraries\n",
        "import tensorflow as tf\n",
        "from tensorflow.keras.preprocessing.image import ImageDataGenerator"
      ],
      "execution_count": 6,
      "outputs": []
    },
    {
      "cell_type": "code",
      "metadata": {
        "colab": {
          "base_uri": "https://localhost:8080/",
          "height": 35
        },
        "id": "0qi_scVkCPOM",
        "outputId": "ebd547d8-92cc-4f95-c5c3-dc438b646d8e"
      },
      "source": [
        "tf.__version__"
      ],
      "execution_count": 7,
      "outputs": [
        {
          "output_type": "execute_result",
          "data": {
            "application/vnd.google.colaboratory.intrinsic+json": {
              "type": "string"
            },
            "text/plain": [
              "'2.6.0'"
            ]
          },
          "metadata": {},
          "execution_count": 7
        }
      ]
    },
    {
      "cell_type": "code",
      "metadata": {
        "id": "AMbWJiEvCSHq"
      },
      "source": [
        "# Part 1 - Data Preprocessing\n",
        "\n",
        "# Preprocessing the Training set\n",
        "train_datagen = ImageDataGenerator(rescale = 1./255,\n",
        "                                   shear_range = 0.2,\n",
        "                                   zoom_range = 0.2,\n",
        "                                   horizontal_flip = True)"
      ],
      "execution_count": 8,
      "outputs": []
    },
    {
      "cell_type": "code",
      "metadata": {
        "colab": {
          "base_uri": "https://localhost:8080/"
        },
        "id": "yo2lkX_fCWtB",
        "outputId": "893e27f5-ed47-450d-813b-7c822d64dd94"
      },
      "source": [
        "training_set = train_datagen.flow_from_directory('train',\n",
        "                                                 target_size = (64, 64),\n",
        "                                                 batch_size = 32,\n",
        "                                                 class_mode = 'categorical')\n",
        "\n",
        "# Preprocessing the Test set\n",
        "test_datagen = ImageDataGenerator(rescale = 1./255)\n",
        "test_set = test_datagen.flow_from_directory('test',\n",
        "                                            target_size = (64, 64),\n",
        "                                            batch_size = 32,\n",
        "                                            class_mode = 'categorical')"
      ],
      "execution_count": 9,
      "outputs": [
        {
          "output_type": "stream",
          "text": [
            "Found 1098 images belonging to 10 classes.\n",
            "Found 272 images belonging to 10 classes.\n"
          ],
          "name": "stdout"
        }
      ]
    },
    {
      "cell_type": "code",
      "metadata": {
        "id": "w9ihg7YiCawR"
      },
      "source": [
        "from tensorflow.keras.layers import Conv2D"
      ],
      "execution_count": 10,
      "outputs": []
    },
    {
      "cell_type": "code",
      "metadata": {
        "id": "NSu1SdNbCf_p"
      },
      "source": [
        "# Part 2 - Building the CNN\n",
        "\n",
        "# Initialising the CNN\n",
        "cnn = tf.keras.models.Sequential()\n",
        "\n",
        "# Step 1 - Convolution\n",
        "cnn.add(tf.keras.layers.Conv2D(filters=32,padding=\"same\",kernel_size=3, activation='relu', input_shape=[64, 64, 3]))\n",
        "\n",
        "# Step 2 - Pooling\n",
        "cnn.add(tf.keras.layers.MaxPool2D(pool_size=2, strides=2))\n",
        "\n",
        "# Adding a second convolutional layer\n",
        "cnn.add(tf.keras.layers.Conv2D(filters=32,padding='same',kernel_size=3, activation='relu'))\n",
        "cnn.add(tf.keras.layers.MaxPool2D(pool_size=2, strides=2))\n",
        "\n",
        "# Step 3 - Flattening\n",
        "cnn.add(tf.keras.layers.Flatten())\n",
        "\n",
        "# Step 4 - Full Connection\n",
        "cnn.add(tf.keras.layers.Dense(units=128, activation='relu'))\n",
        "\n",
        "# Step 5 - Output Layer\n",
        "cnn.add(tf.keras.layers.Dense(units=10, activation='softmax'))"
      ],
      "execution_count": 11,
      "outputs": []
    },
    {
      "cell_type": "code",
      "metadata": {
        "colab": {
          "base_uri": "https://localhost:8080/"
        },
        "id": "mpMhLzeqClt1",
        "outputId": "9b7cc99b-1ecd-4a00-a528-59af324f3000"
      },
      "source": [
        "cnn.summary()"
      ],
      "execution_count": 12,
      "outputs": [
        {
          "output_type": "stream",
          "text": [
            "Model: \"sequential\"\n",
            "_________________________________________________________________\n",
            "Layer (type)                 Output Shape              Param #   \n",
            "=================================================================\n",
            "conv2d (Conv2D)              (None, 64, 64, 32)        896       \n",
            "_________________________________________________________________\n",
            "max_pooling2d (MaxPooling2D) (None, 32, 32, 32)        0         \n",
            "_________________________________________________________________\n",
            "conv2d_1 (Conv2D)            (None, 32, 32, 32)        9248      \n",
            "_________________________________________________________________\n",
            "max_pooling2d_1 (MaxPooling2 (None, 16, 16, 32)        0         \n",
            "_________________________________________________________________\n",
            "flatten (Flatten)            (None, 8192)              0         \n",
            "_________________________________________________________________\n",
            "dense (Dense)                (None, 128)               1048704   \n",
            "_________________________________________________________________\n",
            "dense_1 (Dense)              (None, 10)                1290      \n",
            "=================================================================\n",
            "Total params: 1,060,138\n",
            "Trainable params: 1,060,138\n",
            "Non-trainable params: 0\n",
            "_________________________________________________________________\n"
          ],
          "name": "stdout"
        }
      ]
    },
    {
      "cell_type": "code",
      "metadata": {
        "colab": {
          "base_uri": "https://localhost:8080/"
        },
        "id": "Kkfug6kJCphm",
        "outputId": "e351e1f5-24a2-4ef2-cfd9-9b7fc7027d0c"
      },
      "source": [
        "# Part 3 - Training the CNN\n",
        "\n",
        "# Compiling the CNN\n",
        "cnn.compile(optimizer = 'adam', loss = 'categorical_crossentropy', metrics = ['accuracy'])\n",
        "\n",
        "# Training the CNN on the Training set and evaluating it on the Test set\n",
        "cnn.fit(x = training_set, validation_data = test_set, epochs = 20)"
      ],
      "execution_count": 13,
      "outputs": [
        {
          "output_type": "stream",
          "text": [
            "Epoch 1/20\n",
            "35/35 [==============================] - 417s 11s/step - loss: 2.1189 - accuracy: 0.2341 - val_loss: 2.0571 - val_accuracy: 0.2647\n",
            "Epoch 2/20\n",
            "35/35 [==============================] - 38s 1s/step - loss: 1.6889 - accuracy: 0.4189 - val_loss: 1.5564 - val_accuracy: 0.5074\n",
            "Epoch 3/20\n",
            "35/35 [==============================] - 38s 1s/step - loss: 1.4099 - accuracy: 0.5164 - val_loss: 1.5323 - val_accuracy: 0.5037\n",
            "Epoch 4/20\n",
            "35/35 [==============================] - 38s 1s/step - loss: 1.2328 - accuracy: 0.5938 - val_loss: 1.3129 - val_accuracy: 0.5404\n",
            "Epoch 5/20\n",
            "35/35 [==============================] - 38s 1s/step - loss: 1.0884 - accuracy: 0.6266 - val_loss: 1.1768 - val_accuracy: 0.6140\n",
            "Epoch 6/20\n",
            "35/35 [==============================] - 38s 1s/step - loss: 1.0531 - accuracy: 0.6293 - val_loss: 1.2913 - val_accuracy: 0.5404\n",
            "Epoch 7/20\n",
            "35/35 [==============================] - 38s 1s/step - loss: 0.9423 - accuracy: 0.6849 - val_loss: 1.1910 - val_accuracy: 0.5993\n",
            "Epoch 8/20\n",
            "35/35 [==============================] - 38s 1s/step - loss: 0.8930 - accuracy: 0.7067 - val_loss: 1.2594 - val_accuracy: 0.5735\n",
            "Epoch 9/20\n",
            "35/35 [==============================] - 38s 1s/step - loss: 0.7505 - accuracy: 0.7568 - val_loss: 1.1659 - val_accuracy: 0.6176\n",
            "Epoch 10/20\n",
            "35/35 [==============================] - 37s 1s/step - loss: 0.7843 - accuracy: 0.7404 - val_loss: 1.1319 - val_accuracy: 0.6471\n",
            "Epoch 11/20\n",
            "35/35 [==============================] - 38s 1s/step - loss: 0.7094 - accuracy: 0.7650 - val_loss: 1.1535 - val_accuracy: 0.6360\n",
            "Epoch 12/20\n",
            "35/35 [==============================] - 37s 1s/step - loss: 0.6265 - accuracy: 0.7796 - val_loss: 1.0441 - val_accuracy: 0.6618\n",
            "Epoch 13/20\n",
            "35/35 [==============================] - 37s 1s/step - loss: 0.6593 - accuracy: 0.7851 - val_loss: 1.1288 - val_accuracy: 0.6654\n",
            "Epoch 14/20\n",
            "35/35 [==============================] - 36s 1s/step - loss: 0.5635 - accuracy: 0.8097 - val_loss: 1.0081 - val_accuracy: 0.6875\n",
            "Epoch 15/20\n",
            "35/35 [==============================] - 37s 1s/step - loss: 0.4827 - accuracy: 0.8470 - val_loss: 1.0118 - val_accuracy: 0.6765\n",
            "Epoch 16/20\n",
            "35/35 [==============================] - 37s 1s/step - loss: 0.4985 - accuracy: 0.8324 - val_loss: 1.0910 - val_accuracy: 0.6544\n",
            "Epoch 17/20\n",
            "35/35 [==============================] - 37s 1s/step - loss: 0.4769 - accuracy: 0.8306 - val_loss: 1.2646 - val_accuracy: 0.6434\n",
            "Epoch 18/20\n",
            "35/35 [==============================] - 37s 1s/step - loss: 0.4058 - accuracy: 0.8670 - val_loss: 1.0494 - val_accuracy: 0.6912\n",
            "Epoch 19/20\n",
            "35/35 [==============================] - 37s 1s/step - loss: 0.3673 - accuracy: 0.8843 - val_loss: 1.2027 - val_accuracy: 0.6618\n",
            "Epoch 20/20\n",
            "35/35 [==============================] - 37s 1s/step - loss: 0.2931 - accuracy: 0.9153 - val_loss: 1.0664 - val_accuracy: 0.7096\n"
          ],
          "name": "stdout"
        },
        {
          "output_type": "execute_result",
          "data": {
            "text/plain": [
              "<keras.callbacks.History at 0x7f56c2a78090>"
            ]
          },
          "metadata": {},
          "execution_count": 13
        }
      ]
    },
    {
      "cell_type": "code",
      "metadata": {
        "id": "OX7PinvHCxK_"
      },
      "source": [
        ""
      ],
      "execution_count": null,
      "outputs": []
    }
  ]
}